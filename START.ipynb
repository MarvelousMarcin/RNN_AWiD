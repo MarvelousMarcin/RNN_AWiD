{
 "cells": [
  {
   "cell_type": "markdown",
   "metadata": {},
   "source": [
    "### RNN with Automatic differentiation"
   ]
  },
  {
   "cell_type": "markdown",
   "metadata": {},
   "source": [
    "Marcin Macią 311341"
   ]
  },
  {
   "cell_type": "markdown",
   "metadata": {},
   "source": [
    "We start with prepargin data, we will use example MNIST data set with handwritten numbers,"
   ]
  },
  {
   "cell_type": "code",
   "execution_count": 1,
   "metadata": {},
   "outputs": [
    {
     "data": {
      "text/plain": [
       "10×10000 OneHotMatrix(::Vector{UInt32}) with eltype Bool:\n",
       " ⋅  ⋅  ⋅  1  ⋅  ⋅  ⋅  ⋅  ⋅  ⋅  1  ⋅  ⋅  …  ⋅  ⋅  ⋅  ⋅  ⋅  1  ⋅  ⋅  ⋅  ⋅  ⋅  ⋅\n",
       " ⋅  ⋅  1  ⋅  ⋅  1  ⋅  ⋅  ⋅  ⋅  ⋅  ⋅  ⋅     ⋅  ⋅  ⋅  ⋅  ⋅  ⋅  1  ⋅  ⋅  ⋅  ⋅  ⋅\n",
       " ⋅  1  ⋅  ⋅  ⋅  ⋅  ⋅  ⋅  ⋅  ⋅  ⋅  ⋅  ⋅     ⋅  ⋅  ⋅  ⋅  ⋅  ⋅  ⋅  1  ⋅  ⋅  ⋅  ⋅\n",
       " ⋅  ⋅  ⋅  ⋅  ⋅  ⋅  ⋅  ⋅  ⋅  ⋅  ⋅  ⋅  ⋅     ⋅  ⋅  ⋅  ⋅  ⋅  ⋅  ⋅  ⋅  1  ⋅  ⋅  ⋅\n",
       " ⋅  ⋅  ⋅  ⋅  1  ⋅  1  ⋅  ⋅  ⋅  ⋅  ⋅  ⋅     ⋅  ⋅  ⋅  ⋅  ⋅  ⋅  ⋅  ⋅  ⋅  1  ⋅  ⋅\n",
       " ⋅  ⋅  ⋅  ⋅  ⋅  ⋅  ⋅  ⋅  1  ⋅  ⋅  ⋅  ⋅  …  1  ⋅  ⋅  ⋅  ⋅  ⋅  ⋅  ⋅  ⋅  ⋅  1  ⋅\n",
       " ⋅  ⋅  ⋅  ⋅  ⋅  ⋅  ⋅  ⋅  ⋅  ⋅  ⋅  1  ⋅     ⋅  1  ⋅  ⋅  ⋅  ⋅  ⋅  ⋅  ⋅  ⋅  ⋅  1\n",
       " 1  ⋅  ⋅  ⋅  ⋅  ⋅  ⋅  ⋅  ⋅  ⋅  ⋅  ⋅  ⋅     ⋅  ⋅  1  ⋅  ⋅  ⋅  ⋅  ⋅  ⋅  ⋅  ⋅  ⋅\n",
       " ⋅  ⋅  ⋅  ⋅  ⋅  ⋅  ⋅  ⋅  ⋅  ⋅  ⋅  ⋅  ⋅     ⋅  ⋅  ⋅  1  ⋅  ⋅  ⋅  ⋅  ⋅  ⋅  ⋅  ⋅\n",
       " ⋅  ⋅  ⋅  ⋅  ⋅  ⋅  ⋅  1  ⋅  1  ⋅  ⋅  1     ⋅  ⋅  ⋅  ⋅  1  ⋅  ⋅  ⋅  ⋅  ⋅  ⋅  ⋅"
      ]
     },
     "metadata": {},
     "output_type": "display_data"
    }
   ],
   "source": [
    "include(\"./src/network/rnn.jl\")\n",
    "\n",
    "using MLDatasets: MNIST\n",
    "using Flux\n",
    "\n",
    "train_data = MNIST(:train)\n",
    "test_data = MNIST(:test)\n",
    "\n",
    "x_train = reshape(train_data.features, 28 * 28, :)\n",
    "y_train = Flux.onehotbatch(train_data.targets, 0:9)\n",
    "x_test = reshape(test_data.features, 28 * 28, :)\n",
    "y_test = Flux.onehotbatch(test_data.targets, 0:9)"
   ]
  },
  {
   "cell_type": "markdown",
   "metadata": {},
   "source": [
    "Import special object for creating RNN"
   ]
  },
  {
   "cell_type": "code",
   "execution_count": 2,
   "metadata": {},
   "outputs": [
    {
     "data": {
      "text/plain": [
       "RNN_CUST"
      ]
     },
     "metadata": {},
     "output_type": "display_data"
    }
   ],
   "source": [
    "include(\"./src/network/rnn_custom.jl\")"
   ]
  },
  {
   "cell_type": "markdown",
   "metadata": {},
   "source": [
    "#### Training"
   ]
  },
  {
   "cell_type": "code",
   "execution_count": 42,
   "metadata": {},
   "outputs": [
    {
     "data": {
      "text/plain": [
       "RNN_CUST(5, 100, 0.015, Variable([0.08851528482774437 0.18699323013845776 … 0.041522000649932944 0.10787791967663495; -0.08812329722420541 0.05901399414332029 … -0.09847816670852601 0.04290198079854197; … ; 0.10371426746444758 -0.0803628258361108 … 0.031030726017776806 -0.07134199726251672; 0.21635345400954337 -0.003919475491149488 … 0.0026844666620483757 0.022451536258058322], nothing, \"rnn_weights\", nothing), Variable([0.05688412920871845 0.04223665368574367 … -0.07948600096757852 -0.3075239789833695; -0.137687390553393 -0.014414726137261835 … 0.12880902107682923 0.020273037024715904; … ; -0.18755922749266424 -0.06380932814766441 … -0.14018996418475094 0.06356534160077135; -0.03948138588437463 0.05754819765136771 … -0.2360671987722761 0.17748318933429566], nothing, \"rnn_recurrent_weights\", nothing), Variable([0.0, 0.0, 0.0, 0.0, 0.0, 0.0, 0.0, 0.0, 0.0, 0.0  …  0.0, 0.0, 0.0, 0.0, 0.0, 0.0, 0.0, 0.0, 0.0, 0.0], nothing, \"rnn_bias\", nothing), Variable([-0.2780002151256015 0.0530866406525056 … -0.1542898707377427 -0.12147722302808678; 0.2930776194967347 -0.5526669196916164 … 0.06965783834332787 0.22810994824625178; … ; -0.13312841902655478 -0.12819752402521273 … 0.07483962197458702 -0.2430630894780545; 0.08923088142994727 -0.059568776773771856 … -0.1281583114576022 -0.06317533155515216], nothing, \"dense_weights\", nothing), Variable([0.0, 0.0, 0.0, 0.0, 0.0, 0.0, 0.0, 0.0, 0.0, 0.0], nothing, \"dense_bias\", nothing), Vector{Function}[[rnn, tanh], [dense, identity]])"
      ]
     },
     "metadata": {},
     "output_type": "display_data"
    }
   ],
   "source": [
    "r = RNN_CUST(5, 100, 15e-3, [[rnn, tanh], [dense, identity]])"
   ]
  },
  {
   "cell_type": "markdown",
   "metadata": {},
   "source": [
    "#### Train"
   ]
  },
  {
   "cell_type": "code",
   "execution_count": 43,
   "metadata": {},
   "outputs": [
    {
     "name": "stdout",
     "output_type": "stream",
     "text": [
      "EPOCH: 1.  AVG LOSS: 1.136620508172491\n",
      "ACCURACY: 0.6909115151919198 (RECOGNIZED 41454/59999)\n",
      "\n",
      "EPOCH: 2.  AVG LOSS: 0.5483510611948672\n",
      "ACCURACY: 0.8628477141285688 (RECOGNIZED 51770/59999)\n",
      "\n",
      "EPOCH: 3.  AVG LOSS: 0.42395333372182487\n",
      "ACCURACY: 0.8892148202470042 (RECOGNIZED 53352/59999)\n",
      "\n",
      "EPOCH: 4.  AVG LOSS: 0.36288091382968607\n",
      "ACCURACY: 0.9023317055284255 (RECOGNIZED 54139/59999)\n",
      "\n",
      "EPOCH: 5.  AVG LOSS: 0.3245063620542821\n",
      "ACCURACY: 0.9110318505308422 (RECOGNIZED 54661/59999)\n",
      "\n",
      "133.104387 seconds (164.19 M allocations: 170.226 GiB, 5.48% gc time, 1.49% compilation time)\n"
     ]
    },
    {
     "data": {
      "text/plain": [
       "\"c:\\\\Users\\\\thesu\\\\OneDrive\\\\Pulpit\\\\RNN\\\\images\\\\accuracy.png\""
      ]
     },
     "metadata": {},
     "output_type": "display_data"
    }
   ],
   "source": [
    "train(r, x_train, y_train)"
   ]
  },
  {
   "cell_type": "markdown",
   "metadata": {},
   "source": [
    "#### Test"
   ]
  },
  {
   "cell_type": "code",
   "execution_count": 7,
   "metadata": {},
   "outputs": [
    {
     "name": "stdout",
     "output_type": "stream",
     "text": [
      "TEST ACCURACY: 0.9207920792079208 (RECOGNIZED 9207/9999)\n"
     ]
    }
   ],
   "source": [
    "test(r,x_test, y_test)"
   ]
  }
 ],
 "metadata": {
  "kernelspec": {
   "display_name": "Julia 1.10.4",
   "language": "julia",
   "name": "julia-1.10"
  },
  "language_info": {
   "file_extension": ".jl",
   "mimetype": "application/julia",
   "name": "julia",
   "version": "1.10.4"
  }
 },
 "nbformat": 4,
 "nbformat_minor": 2
}
