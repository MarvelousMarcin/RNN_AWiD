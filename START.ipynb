{
 "cells": [
  {
   "cell_type": "markdown",
   "metadata": {},
   "source": [
    "### RNN with Automatic differentiation"
   ]
  },
  {
   "cell_type": "markdown",
   "metadata": {},
   "source": [
    "Marcin Macią 311341"
   ]
  },
  {
   "cell_type": "markdown",
   "metadata": {},
   "source": [
    "We start with prepargin data, we will use example MNIST data set with handwritten numbers,"
   ]
  },
  {
   "cell_type": "code",
   "execution_count": 36,
   "metadata": {},
   "outputs": [
    {
     "data": {
      "text/plain": [
       "10×10000 OneHotMatrix(::Vector{UInt32}) with eltype Bool:\n",
       " ⋅  ⋅  ⋅  1  ⋅  ⋅  ⋅  ⋅  ⋅  ⋅  1  ⋅  ⋅  …  ⋅  ⋅  ⋅  ⋅  ⋅  1  ⋅  ⋅  ⋅  ⋅  ⋅  ⋅\n",
       " ⋅  ⋅  1  ⋅  ⋅  1  ⋅  ⋅  ⋅  ⋅  ⋅  ⋅  ⋅     ⋅  ⋅  ⋅  ⋅  ⋅  ⋅  1  ⋅  ⋅  ⋅  ⋅  ⋅\n",
       " ⋅  1  ⋅  ⋅  ⋅  ⋅  ⋅  ⋅  ⋅  ⋅  ⋅  ⋅  ⋅     ⋅  ⋅  ⋅  ⋅  ⋅  ⋅  ⋅  1  ⋅  ⋅  ⋅  ⋅\n",
       " ⋅  ⋅  ⋅  ⋅  ⋅  ⋅  ⋅  ⋅  ⋅  ⋅  ⋅  ⋅  ⋅     ⋅  ⋅  ⋅  ⋅  ⋅  ⋅  ⋅  ⋅  1  ⋅  ⋅  ⋅\n",
       " ⋅  ⋅  ⋅  ⋅  1  ⋅  1  ⋅  ⋅  ⋅  ⋅  ⋅  ⋅     ⋅  ⋅  ⋅  ⋅  ⋅  ⋅  ⋅  ⋅  ⋅  1  ⋅  ⋅\n",
       " ⋅  ⋅  ⋅  ⋅  ⋅  ⋅  ⋅  ⋅  1  ⋅  ⋅  ⋅  ⋅  …  1  ⋅  ⋅  ⋅  ⋅  ⋅  ⋅  ⋅  ⋅  ⋅  1  ⋅\n",
       " ⋅  ⋅  ⋅  ⋅  ⋅  ⋅  ⋅  ⋅  ⋅  ⋅  ⋅  1  ⋅     ⋅  1  ⋅  ⋅  ⋅  ⋅  ⋅  ⋅  ⋅  ⋅  ⋅  1\n",
       " 1  ⋅  ⋅  ⋅  ⋅  ⋅  ⋅  ⋅  ⋅  ⋅  ⋅  ⋅  ⋅     ⋅  ⋅  1  ⋅  ⋅  ⋅  ⋅  ⋅  ⋅  ⋅  ⋅  ⋅\n",
       " ⋅  ⋅  ⋅  ⋅  ⋅  ⋅  ⋅  ⋅  ⋅  ⋅  ⋅  ⋅  ⋅     ⋅  ⋅  ⋅  1  ⋅  ⋅  ⋅  ⋅  ⋅  ⋅  ⋅  ⋅\n",
       " ⋅  ⋅  ⋅  ⋅  ⋅  ⋅  ⋅  1  ⋅  1  ⋅  ⋅  1     ⋅  ⋅  ⋅  ⋅  1  ⋅  ⋅  ⋅  ⋅  ⋅  ⋅  ⋅"
      ]
     },
     "metadata": {},
     "output_type": "display_data"
    }
   ],
   "source": [
    "include(\"./src/network/rnn.jl\")\n",
    "\n",
    "using MLDatasets: MNIST\n",
    "using Flux\n",
    "\n",
    "train_data = MNIST(:train)\n",
    "test_data = MNIST(:test)\n",
    "\n",
    "x_train = reshape(train_data.features, 28 * 28, :)\n",
    "y_train = Flux.onehotbatch(train_data.targets, 0:9)\n",
    "x_test = reshape(test_data.features, 28 * 28, :)\n",
    "y_test = Flux.onehotbatch(test_data.targets, 0:9)"
   ]
  },
  {
   "cell_type": "markdown",
   "metadata": {},
   "source": [
    "Import special object for creating RNN"
   ]
  },
  {
   "cell_type": "code",
   "execution_count": 31,
   "metadata": {},
   "outputs": [
    {
     "data": {
      "text/plain": [
       "RNN_CUST"
      ]
     },
     "metadata": {},
     "output_type": "display_data"
    }
   ],
   "source": [
    "include(\"./src/network/rnn_custom.jl\")"
   ]
  },
  {
   "cell_type": "markdown",
   "metadata": {},
   "source": [
    "#### Training"
   ]
  },
  {
   "cell_type": "code",
   "execution_count": 32,
   "metadata": {},
   "outputs": [
    {
     "data": {
      "text/plain": [
       "RNN_CUST(5, 100, 0.015, Variable([0.050072739436366503 -0.10036354742397609 … 0.008845435307263465 0.01714345343950194; -0.136200892123916 0.11179909409354905 … -0.05373789115476268 -0.007436278700296995; … ; 0.016210915458567437 0.02189822264503829 … 0.05343695107933557 -0.18418009456445; -0.08617885264054355 0.035010057600602905 … 0.0456667030049588 -0.04239395722247193], nothing, \"rnn_weights\", nothing), Variable([-0.14918591334403633 0.06653520491804016 … -0.0714936055808886 -0.05966550568049966; 0.05806093481811701 -0.08170619048361043 … -0.27821030374367317 -0.1614406450216314; … ; -0.054573563354879305 -0.10129000755978375 … 0.08393542708510728 0.07909246364254961; 0.02793547945273218 -0.07958359596020564 … -0.03888826338733075 0.09184472282855542], nothing, \"rnn_recurrent_weights\", nothing), Variable([0.0, 0.0, 0.0, 0.0, 0.0, 0.0, 0.0, 0.0, 0.0, 0.0  …  0.0, 0.0, 0.0, 0.0, 0.0, 0.0, 0.0, 0.0, 0.0, 0.0], nothing, \"rnn_bias\", nothing), Variable([-0.0019730594916592347 -0.14758351269758394 … 0.05136732474715473 0.1316718354905883; 0.22746611923833718 -0.1877830942769947 … -0.05657685520207181 -0.24949958260141628; … ; 0.33917004792565514 -0.14952349152416317 … -0.16152927628312724 0.07421145222788443; -0.014179129957163639 -0.1582429866562245 … -0.2464515841498144 0.01592759615296212], nothing, \"dense_weights\", nothing), Variable([0.0, 0.0, 0.0, 0.0, 0.0, 0.0, 0.0, 0.0, 0.0, 0.0], nothing, \"dense_bias\", nothing), Vector{Function}[[rnn, tanh], [dense, identity]])"
      ]
     },
     "metadata": {},
     "output_type": "display_data"
    }
   ],
   "source": [
    "r = RNN_CUST(5, 100, 15e-3, [[rnn, tanh], [dense, identity]])"
   ]
  },
  {
   "cell_type": "markdown",
   "metadata": {},
   "source": [
    "#### Train"
   ]
  },
  {
   "cell_type": "code",
   "execution_count": 37,
   "metadata": {},
   "outputs": [
    {
     "name": "stdout",
     "output_type": "stream",
     "text": [
      "TEST RUN WITHOUT LEARNING ---- SHOULD BE AROUND 10% ACCURACY\n"
     ]
    },
    {
     "ename": "DimensionMismatch",
     "evalue": "DimensionMismatch: arrays could not be broadcast to a common size; got a dimension with lengths 64 and 10",
     "output_type": "error",
     "traceback": [
      "DimensionMismatch: arrays could not be broadcast to a common size; got a dimension with lengths 64 and 10\n",
      "\n",
      "Stacktrace:\n",
      "  [1] _bcs1\n",
      "    @ .\\broadcast.jl:555 [inlined]\n",
      "  [2] _bcs\n",
      "    @ .\\broadcast.jl:549 [inlined]\n",
      "  [3] broadcast_shape\n",
      "    @ .\\broadcast.jl:543 [inlined]\n",
      "  [4] combine_axes\n",
      "    @ .\\broadcast.jl:524 [inlined]\n",
      "  [5] instantiate\n",
      "    @ .\\broadcast.jl:306 [inlined]\n",
      "  [6] materialize\n",
      "    @ .\\broadcast.jl:903 [inlined]\n",
      "  [7] forward(::BroadcastedOperator{typeof(cross_entropy_loss)}, y_hat::Vector{Float64}, y::OneHotArrays.OneHotVector{UInt32})\n",
      "    @ Main c:\\Users\\thesu\\OneDrive\\Pulpit\\RNN\\src\\network\\cross_entropy_loss.jl:12\n",
      "  [8] compute!(node::BroadcastedOperator{typeof(cross_entropy_loss)})\n",
      "    @ Main c:\\Users\\thesu\\OneDrive\\Pulpit\\RNN\\src\\network\\train\\forward.jl:7\n",
      "  [9] forward!(order::Vector{Any})\n",
      "    @ Main c:\\Users\\thesu\\OneDrive\\Pulpit\\RNN\\src\\network\\train\\forward.jl:11\n",
      " [10] test(r::RNN_CUST, x::Matrix{Float32}, y::OneHotArrays.OneHotMatrix{UInt32, Vector{UInt32}})\n",
      "    @ Main c:\\Users\\thesu\\OneDrive\\Pulpit\\RNN\\src\\network\\rnn.jl:75\n",
      " [11] train(r::RNN_CUST, x::Matrix{Float32}, y::OneHotArrays.OneHotMatrix{UInt32, Vector{UInt32}})\n",
      "    @ Main c:\\Users\\thesu\\OneDrive\\Pulpit\\RNN\\src\\network\\rnn.jl:14\n",
      " [12] top-level scope\n",
      "    @ c:\\Users\\thesu\\OneDrive\\Pulpit\\RNN\\START.ipynb:2"
     ]
    }
   ],
   "source": [
    "# training\n",
    "include(\"./src/network/rnn.jl\")\n",
    "\n",
    "train(r, x_train, y_train)"
   ]
  },
  {
   "cell_type": "markdown",
   "metadata": {},
   "source": [
    "#### Test"
   ]
  },
  {
   "cell_type": "code",
   "execution_count": 23,
   "metadata": {},
   "outputs": [
    {
     "name": "stdout",
     "output_type": "stream",
     "text": [
      "TEST ACCURACY: 0.9147 (RECOGNIZED 9147/10000)\n"
     ]
    }
   ],
   "source": [
    "test(r,x_test, y_test)"
   ]
  }
 ],
 "metadata": {
  "kernelspec": {
   "display_name": "Julia 1.10.4",
   "language": "julia",
   "name": "julia-1.10"
  },
  "language_info": {
   "file_extension": ".jl",
   "mimetype": "application/julia",
   "name": "julia",
   "version": "1.10.4"
  }
 },
 "nbformat": 4,
 "nbformat_minor": 2
}
