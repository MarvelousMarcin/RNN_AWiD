{
 "cells": [
  {
   "cell_type": "markdown",
   "metadata": {},
   "source": [
    "### RNN with Automatic differentiation"
   ]
  },
  {
   "cell_type": "markdown",
   "metadata": {},
   "source": [
    "Marcin Macią 311341"
   ]
  },
  {
   "cell_type": "markdown",
   "metadata": {},
   "source": [
    "We start with prepargin data, we will use example MNIST data set with handwritten numbers,"
   ]
  },
  {
   "cell_type": "code",
   "execution_count": 1,
   "metadata": {},
   "outputs": [
    {
     "data": {
      "text/plain": [
       "10×10000 OneHotMatrix(::Vector{UInt32}) with eltype Bool:\n",
       " ⋅  ⋅  ⋅  1  ⋅  ⋅  ⋅  ⋅  ⋅  ⋅  1  ⋅  ⋅  …  ⋅  ⋅  ⋅  ⋅  ⋅  1  ⋅  ⋅  ⋅  ⋅  ⋅  ⋅\n",
       " ⋅  ⋅  1  ⋅  ⋅  1  ⋅  ⋅  ⋅  ⋅  ⋅  ⋅  ⋅     ⋅  ⋅  ⋅  ⋅  ⋅  ⋅  1  ⋅  ⋅  ⋅  ⋅  ⋅\n",
       " ⋅  1  ⋅  ⋅  ⋅  ⋅  ⋅  ⋅  ⋅  ⋅  ⋅  ⋅  ⋅     ⋅  ⋅  ⋅  ⋅  ⋅  ⋅  ⋅  1  ⋅  ⋅  ⋅  ⋅\n",
       " ⋅  ⋅  ⋅  ⋅  ⋅  ⋅  ⋅  ⋅  ⋅  ⋅  ⋅  ⋅  ⋅     ⋅  ⋅  ⋅  ⋅  ⋅  ⋅  ⋅  ⋅  1  ⋅  ⋅  ⋅\n",
       " ⋅  ⋅  ⋅  ⋅  1  ⋅  1  ⋅  ⋅  ⋅  ⋅  ⋅  ⋅     ⋅  ⋅  ⋅  ⋅  ⋅  ⋅  ⋅  ⋅  ⋅  1  ⋅  ⋅\n",
       " ⋅  ⋅  ⋅  ⋅  ⋅  ⋅  ⋅  ⋅  1  ⋅  ⋅  ⋅  ⋅  …  1  ⋅  ⋅  ⋅  ⋅  ⋅  ⋅  ⋅  ⋅  ⋅  1  ⋅\n",
       " ⋅  ⋅  ⋅  ⋅  ⋅  ⋅  ⋅  ⋅  ⋅  ⋅  ⋅  1  ⋅     ⋅  1  ⋅  ⋅  ⋅  ⋅  ⋅  ⋅  ⋅  ⋅  ⋅  1\n",
       " 1  ⋅  ⋅  ⋅  ⋅  ⋅  ⋅  ⋅  ⋅  ⋅  ⋅  ⋅  ⋅     ⋅  ⋅  1  ⋅  ⋅  ⋅  ⋅  ⋅  ⋅  ⋅  ⋅  ⋅\n",
       " ⋅  ⋅  ⋅  ⋅  ⋅  ⋅  ⋅  ⋅  ⋅  ⋅  ⋅  ⋅  ⋅     ⋅  ⋅  ⋅  1  ⋅  ⋅  ⋅  ⋅  ⋅  ⋅  ⋅  ⋅\n",
       " ⋅  ⋅  ⋅  ⋅  ⋅  ⋅  ⋅  1  ⋅  1  ⋅  ⋅  1     ⋅  ⋅  ⋅  ⋅  1  ⋅  ⋅  ⋅  ⋅  ⋅  ⋅  ⋅"
      ]
     },
     "metadata": {},
     "output_type": "display_data"
    }
   ],
   "source": [
    "include(\"./src/network/rnn.jl\")\n",
    "\n",
    "using MLDatasets: MNIST\n",
    "using Flux\n",
    "\n",
    "train_data = MNIST(:train)\n",
    "test_data = MNIST(:test)\n",
    "\n",
    "x_train = reshape(train_data.features, 28 * 28, :)\n",
    "y_train = Flux.onehotbatch(train_data.targets, 0:9)\n",
    "x_test = reshape(test_data.features, 28 * 28, :)\n",
    "y_test = Flux.onehotbatch(test_data.targets, 0:9)"
   ]
  },
  {
   "cell_type": "markdown",
   "metadata": {},
   "source": [
    "Import special object for creating RNN"
   ]
  },
  {
   "cell_type": "code",
   "execution_count": 2,
   "metadata": {},
   "outputs": [
    {
     "data": {
      "text/plain": [
       "RNN_CUST"
      ]
     },
     "metadata": {},
     "output_type": "display_data"
    }
   ],
   "source": [
    "include(\"./src/network/rnn_custom.jl\")"
   ]
  },
  {
   "cell_type": "markdown",
   "metadata": {},
   "source": [
    "#### Training"
   ]
  },
  {
   "cell_type": "code",
   "execution_count": 20,
   "metadata": {},
   "outputs": [
    {
     "data": {
      "text/plain": [
       "RNN_CUST(5, 100, 0.015, Variable([0.12287007176256143 0.041096994275089234 … -0.1066322055029788 0.15609905054250459; 0.025915536113811918 0.1285587605354504 … -0.032992868970217436 -0.07117617069205373; … ; 0.015477612032034136 0.254886812654041 … 0.061360236717590076 0.07059871524898222; -0.0190345411763758 -0.17561858181759515 … 0.02136013861640631 0.09471870200083111], nothing, \"rnn_weights\", nothing), Variable([0.20033701983045138 -0.08829495993068386 … -0.11213986662835197 -0.06758969711790982; 0.19986406402307091 0.01461467353914365 … 0.07451827035688266 0.09568376745836986; … ; 0.10487255585400118 0.08215606730265192 … 0.17431870102222274 -0.1723405971597963; -0.11958048326729773 -0.11161145436923522 … 0.28914718886742025 0.05714651319219235], nothing, \"rnn_recurrent_weights\", nothing), Variable([0.0, 0.0, 0.0, 0.0, 0.0, 0.0, 0.0, 0.0, 0.0, 0.0  …  0.0, 0.0, 0.0, 0.0, 0.0, 0.0, 0.0, 0.0, 0.0, 0.0], nothing, \"rnn_bias\", nothing), Variable([0.32538233976287323 -0.07220907405600281 … -0.16400379625875933 -0.26178684408155406; -0.2582827747768364 -0.03455324439303253 … 0.16762922260712773 0.0450818306329951; … ; -0.02569107625926096 -0.15567651360744644 … 0.034320213982134515 0.2977685933410749; 0.2845003950166922 -0.017528841779395066 … -0.005982279898116841 0.03537657692975906], nothing, \"dense_weights\", nothing), Variable([0.0, 0.0, 0.0, 0.0, 0.0, 0.0, 0.0, 0.0, 0.0, 0.0], nothing, \"dense_bias\", nothing), Vector{Function}[[rnn, tanh], [dense, identity]])"
      ]
     },
     "metadata": {},
     "output_type": "display_data"
    }
   ],
   "source": [
    "r = RNN_CUST(5, 100, 15e-3, [[rnn, tanh], [dense, identity]])"
   ]
  },
  {
   "cell_type": "markdown",
   "metadata": {},
   "source": [
    "#### Train"
   ]
  },
  {
   "cell_type": "code",
   "execution_count": 21,
   "metadata": {},
   "outputs": [
    {
     "name": "stdout",
     "output_type": "stream",
     "text": [
      "TEST RUN WITHOUT LEARNING ---- SHOULD BE AROUND 10% ACCURACY\n",
      "TEST ACCURACY: 0.11451666666666667 (RECOGNIZED 6871/60000)\n",
      "------------------------------------------------------\n",
      "EPOCH: 1.  AVG LOSS: 1.0037440893983287\n",
      "ACCURACY: 0.7439833333333333 (RECOGNIZED 44639/60000)\n",
      "\n",
      "EPOCH: 2.  AVG LOSS: 0.4857092768405308\n",
      "ACCURACY: 0.8105166666666667 (RECOGNIZED 97262/120000)\n",
      "\n",
      "EPOCH: 3.  AVG LOSS: 0.38821787337569214\n",
      "ACCURACY: 0.8391333333333333 (RECOGNIZED 151044/180000)\n",
      "\n",
      "EPOCH: 4.  AVG LOSS: 0.3384040503497751\n",
      "ACCURACY: 0.8561208333333333 (RECOGNIZED 205469/240000)\n",
      "\n",
      "EPOCH: 5.  AVG LOSS: 0.3053490718617228\n",
      "ACCURACY: 0.86791 (RECOGNIZED 260373/300000)\n",
      "\n",
      "137.628731 seconds (216.66 M allocations: 323.186 GiB, 7.74% gc time, 0.06% compilation time)\n"
     ]
    }
   ],
   "source": [
    "# training\n",
    "train(r, x_train, y_train)"
   ]
  },
  {
   "cell_type": "markdown",
   "metadata": {},
   "source": [
    "#### Test"
   ]
  },
  {
   "cell_type": "code",
   "execution_count": 22,
   "metadata": {},
   "outputs": [
    {
     "name": "stdout",
     "output_type": "stream",
     "text": [
      "TEST ACCURACY: 0.923 (RECOGNIZED 9230/10000)\n"
     ]
    }
   ],
   "source": [
    "test(r,x_test, y_test)"
   ]
  }
 ],
 "metadata": {
  "kernelspec": {
   "display_name": "Julia 1.10.4",
   "language": "julia",
   "name": "julia-1.10"
  },
  "language_info": {
   "file_extension": ".jl",
   "mimetype": "application/julia",
   "name": "julia",
   "version": "1.10.4"
  }
 },
 "nbformat": 4,
 "nbformat_minor": 2
}
