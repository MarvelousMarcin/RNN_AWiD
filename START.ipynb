{
 "cells": [
  {
   "cell_type": "markdown",
   "metadata": {},
   "source": [
    "### RNN with Automatic differentiation"
   ]
  },
  {
   "cell_type": "markdown",
   "metadata": {},
   "source": [
    "Marcin Maciąg 311341 Basia Borkowska 336443"
   ]
  },
  {
   "cell_type": "markdown",
   "metadata": {},
   "source": [
    "We start with prepargin data, we will use example MNIST data set with handwritten numbers,"
   ]
  },
  {
   "cell_type": "code",
   "execution_count": 25,
   "metadata": {},
   "outputs": [
    {
     "data": {
      "text/plain": [
       "10×10000 OneHotMatrix(::Vector{UInt32}) with eltype Bool:\n",
       " ⋅  ⋅  ⋅  1  ⋅  ⋅  ⋅  ⋅  ⋅  ⋅  1  ⋅  ⋅  …  ⋅  ⋅  ⋅  ⋅  ⋅  1  ⋅  ⋅  ⋅  ⋅  ⋅  ⋅\n",
       " ⋅  ⋅  1  ⋅  ⋅  1  ⋅  ⋅  ⋅  ⋅  ⋅  ⋅  ⋅     ⋅  ⋅  ⋅  ⋅  ⋅  ⋅  1  ⋅  ⋅  ⋅  ⋅  ⋅\n",
       " ⋅  1  ⋅  ⋅  ⋅  ⋅  ⋅  ⋅  ⋅  ⋅  ⋅  ⋅  ⋅     ⋅  ⋅  ⋅  ⋅  ⋅  ⋅  ⋅  1  ⋅  ⋅  ⋅  ⋅\n",
       " ⋅  ⋅  ⋅  ⋅  ⋅  ⋅  ⋅  ⋅  ⋅  ⋅  ⋅  ⋅  ⋅     ⋅  ⋅  ⋅  ⋅  ⋅  ⋅  ⋅  ⋅  1  ⋅  ⋅  ⋅\n",
       " ⋅  ⋅  ⋅  ⋅  1  ⋅  1  ⋅  ⋅  ⋅  ⋅  ⋅  ⋅     ⋅  ⋅  ⋅  ⋅  ⋅  ⋅  ⋅  ⋅  ⋅  1  ⋅  ⋅\n",
       " ⋅  ⋅  ⋅  ⋅  ⋅  ⋅  ⋅  ⋅  1  ⋅  ⋅  ⋅  ⋅  …  1  ⋅  ⋅  ⋅  ⋅  ⋅  ⋅  ⋅  ⋅  ⋅  1  ⋅\n",
       " ⋅  ⋅  ⋅  ⋅  ⋅  ⋅  ⋅  ⋅  ⋅  ⋅  ⋅  1  ⋅     ⋅  1  ⋅  ⋅  ⋅  ⋅  ⋅  ⋅  ⋅  ⋅  ⋅  1\n",
       " 1  ⋅  ⋅  ⋅  ⋅  ⋅  ⋅  ⋅  ⋅  ⋅  ⋅  ⋅  ⋅     ⋅  ⋅  1  ⋅  ⋅  ⋅  ⋅  ⋅  ⋅  ⋅  ⋅  ⋅\n",
       " ⋅  ⋅  ⋅  ⋅  ⋅  ⋅  ⋅  ⋅  ⋅  ⋅  ⋅  ⋅  ⋅     ⋅  ⋅  ⋅  1  ⋅  ⋅  ⋅  ⋅  ⋅  ⋅  ⋅  ⋅\n",
       " ⋅  ⋅  ⋅  ⋅  ⋅  ⋅  ⋅  1  ⋅  1  ⋅  ⋅  1     ⋅  ⋅  ⋅  ⋅  1  ⋅  ⋅  ⋅  ⋅  ⋅  ⋅  ⋅"
      ]
     },
     "metadata": {},
     "output_type": "display_data"
    }
   ],
   "source": [
    "include(\"./src/network/rnn.jl\")\n",
    "\n",
    "using MLDatasets: MNIST\n",
    "using Flux\n",
    "\n",
    "train_data = MNIST(:train)\n",
    "test_data = MNIST(:test)\n",
    "\n",
    "x_train = reshape(train_data.features, 28 * 28, :)\n",
    "y_train = Flux.onehotbatch(train_data.targets, 0:9)\n",
    "x_test = reshape(test_data.features, 28 * 28, :)\n",
    "y_test = Flux.onehotbatch(test_data.targets, 0:9)"
   ]
  },
  {
   "cell_type": "markdown",
   "metadata": {},
   "source": [
    "Import special object for creating RNN"
   ]
  },
  {
   "cell_type": "code",
   "execution_count": 8,
   "metadata": {},
   "outputs": [
    {
     "data": {
      "text/plain": [
       "RNN_CUST"
      ]
     },
     "metadata": {},
     "output_type": "display_data"
    }
   ],
   "source": [
    "include(\"./src/network/rnn_custom.jl\")"
   ]
  },
  {
   "cell_type": "markdown",
   "metadata": {},
   "source": [
    "#### Training"
   ]
  },
  {
   "cell_type": "code",
   "execution_count": 29,
   "metadata": {},
   "outputs": [
    {
     "data": {
      "text/plain": [
       "RNN_CUST(5, 100, 0.015, Variable([-0.03114352335466205 -0.06748700284986793 … 0.11781028869922229 -0.009780939701597829; 0.11708387216013158 -0.07973682495995012 … -0.158924675072258 -0.030311822552104167; … ; 0.06121847265583955 -0.03143461156133452 … -0.10678895701502547 0.02849036611601269; -0.025459418102706067 0.04434771558386945 … -0.13934170005491098 0.003348726387634896], nothing, \"rnn_weights\", nothing), Variable([0.013168017874210841 -0.09460636211344062 … 0.19103417084690302 -0.12056248211739075; -0.030968107160215096 0.1791891206519245 … 0.10284135820670548 0.14206262130217076; … ; 0.1262664166895089 -0.011133637363950965 … -0.2253031220881538 0.13327996627831423; -0.13134290514453822 0.10488078356704104 … -0.08165097965105168 -0.16307428563188728], nothing, \"rnn_recurrent_weights\", nothing), Variable([0.0, 0.0, 0.0, 0.0, 0.0, 0.0, 0.0, 0.0, 0.0, 0.0  …  0.0, 0.0, 0.0, 0.0, 0.0, 0.0, 0.0, 0.0, 0.0, 0.0], nothing, \"rnn_bias\", nothing), Variable([0.21590420912816824 -0.21328162974916703 … -0.1332880779466159 0.11458755039472512; -0.093828636015079 -0.10447968182339787 … -0.24634915008341526 0.13920564896273452; … ; -0.18959519871520333 0.06452962969795062 … 0.1310927627579399 0.14447900615716933; -0.12629917727467083 -0.046818216665757285 … -0.09844065833504202 -0.5209594776810162], nothing, \"dense_weights\", nothing), Variable([0.0, 0.0, 0.0, 0.0, 0.0, 0.0, 0.0, 0.0, 0.0, 0.0], nothing, \"dense_bias\", nothing), Vector{Function}[[rnn, tanh], [dense, identity]])"
      ]
     },
     "metadata": {},
     "output_type": "display_data"
    }
   ],
   "source": [
    "r = RNN_CUST(5, 100, 15e-3)"
   ]
  },
  {
   "cell_type": "markdown",
   "metadata": {},
   "source": [
    "#### Train"
   ]
  },
  {
   "cell_type": "code",
   "execution_count": 30,
   "metadata": {},
   "outputs": [
    {
     "name": "stdout",
     "output_type": "stream",
     "text": [
      "TEST RUN WITHOUT LEARNING ---- SHOULD BE AROUND 10% ACCURACY\n",
      "Accuracy: 6.15%\n",
      "------------------------------------------------------\n",
      "EPOCH: 1.  AVG LOSS: 1.3999877721417986\n",
      "Accuracy: 57.92%\n",
      "EPOCH: 2.  AVG LOSS: 0.7424147121271648\n",
      "Accuracy: 79.58%\n",
      "EPOCH: 3.  AVG LOSS: 0.5772679001418961\n",
      "Accuracy: 83.84%\n",
      "EPOCH: 4.  AVG LOSS: 0.49751754006944304\n",
      "Accuracy: 85.92%\n",
      "EPOCH: 5.  AVG LOSS: 0.44881753797526885\n",
      "Accuracy: 87.2%\n",
      "171.479655 seconds (169.61 M allocations: 85.130 GiB, 4.56% gc time)\n"
     ]
    },
    {
     "data": {
      "text/plain": [
       "\"c:\\\\Users\\\\thesu\\\\OneDrive\\\\Pulpit\\\\RNN\\\\images\\\\accuracy.png\""
      ]
     },
     "metadata": {},
     "output_type": "display_data"
    }
   ],
   "source": [
    "train(r, x_train, y_train)"
   ]
  },
  {
   "cell_type": "markdown",
   "metadata": {},
   "source": [
    "#### Test"
   ]
  },
  {
   "cell_type": "code",
   "execution_count": 32,
   "metadata": {},
   "outputs": [
    {
     "name": "stdout",
     "output_type": "stream",
     "text": [
      "Accuracy: 88.62%\n"
     ]
    }
   ],
   "source": [
    "test(r,x_test, y_test)"
   ]
  }
 ],
 "metadata": {
  "kernelspec": {
   "display_name": "Julia 1.10.4",
   "language": "julia",
   "name": "julia-1.10"
  },
  "language_info": {
   "file_extension": ".jl",
   "mimetype": "application/julia",
   "name": "julia",
   "version": "1.10.4"
  }
 },
 "nbformat": 4,
 "nbformat_minor": 2
}
