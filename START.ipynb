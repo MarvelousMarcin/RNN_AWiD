{
 "cells": [
  {
   "cell_type": "markdown",
   "metadata": {},
   "source": [
    "### RNN with Automatic differentiation"
   ]
  },
  {
   "cell_type": "markdown",
   "metadata": {},
   "source": [
    "Marcin Macią 311341"
   ]
  },
  {
   "cell_type": "markdown",
   "metadata": {},
   "source": [
    "We start with prepargin data, we will use example MNIST data set with handwritten numbers,"
   ]
  },
  {
   "cell_type": "code",
   "execution_count": 1,
   "metadata": {},
   "outputs": [
    {
     "data": {
      "text/plain": [
       "10×10000 OneHotMatrix(::Vector{UInt32}) with eltype Bool:\n",
       " ⋅  ⋅  ⋅  1  ⋅  ⋅  ⋅  ⋅  ⋅  ⋅  1  ⋅  ⋅  …  ⋅  ⋅  ⋅  ⋅  ⋅  1  ⋅  ⋅  ⋅  ⋅  ⋅  ⋅\n",
       " ⋅  ⋅  1  ⋅  ⋅  1  ⋅  ⋅  ⋅  ⋅  ⋅  ⋅  ⋅     ⋅  ⋅  ⋅  ⋅  ⋅  ⋅  1  ⋅  ⋅  ⋅  ⋅  ⋅\n",
       " ⋅  1  ⋅  ⋅  ⋅  ⋅  ⋅  ⋅  ⋅  ⋅  ⋅  ⋅  ⋅     ⋅  ⋅  ⋅  ⋅  ⋅  ⋅  ⋅  1  ⋅  ⋅  ⋅  ⋅\n",
       " ⋅  ⋅  ⋅  ⋅  ⋅  ⋅  ⋅  ⋅  ⋅  ⋅  ⋅  ⋅  ⋅     ⋅  ⋅  ⋅  ⋅  ⋅  ⋅  ⋅  ⋅  1  ⋅  ⋅  ⋅\n",
       " ⋅  ⋅  ⋅  ⋅  1  ⋅  1  ⋅  ⋅  ⋅  ⋅  ⋅  ⋅     ⋅  ⋅  ⋅  ⋅  ⋅  ⋅  ⋅  ⋅  ⋅  1  ⋅  ⋅\n",
       " ⋅  ⋅  ⋅  ⋅  ⋅  ⋅  ⋅  ⋅  1  ⋅  ⋅  ⋅  ⋅  …  1  ⋅  ⋅  ⋅  ⋅  ⋅  ⋅  ⋅  ⋅  ⋅  1  ⋅\n",
       " ⋅  ⋅  ⋅  ⋅  ⋅  ⋅  ⋅  ⋅  ⋅  ⋅  ⋅  1  ⋅     ⋅  1  ⋅  ⋅  ⋅  ⋅  ⋅  ⋅  ⋅  ⋅  ⋅  1\n",
       " 1  ⋅  ⋅  ⋅  ⋅  ⋅  ⋅  ⋅  ⋅  ⋅  ⋅  ⋅  ⋅     ⋅  ⋅  1  ⋅  ⋅  ⋅  ⋅  ⋅  ⋅  ⋅  ⋅  ⋅\n",
       " ⋅  ⋅  ⋅  ⋅  ⋅  ⋅  ⋅  ⋅  ⋅  ⋅  ⋅  ⋅  ⋅     ⋅  ⋅  ⋅  1  ⋅  ⋅  ⋅  ⋅  ⋅  ⋅  ⋅  ⋅\n",
       " ⋅  ⋅  ⋅  ⋅  ⋅  ⋅  ⋅  1  ⋅  1  ⋅  ⋅  1     ⋅  ⋅  ⋅  ⋅  1  ⋅  ⋅  ⋅  ⋅  ⋅  ⋅  ⋅"
      ]
     },
     "metadata": {},
     "output_type": "display_data"
    }
   ],
   "source": [
    "include(\"./src/network/rnn.jl\")\n",
    "\n",
    "using MLDatasets: MNIST\n",
    "using Flux\n",
    "\n",
    "train_data = MNIST(:train)\n",
    "test_data = MNIST(:test)\n",
    "\n",
    "x_train = reshape(train_data.features, 28 * 28, :)\n",
    "y_train = Flux.onehotbatch(train_data.targets, 0:9)\n",
    "x_test = reshape(test_data.features, 28 * 28, :)\n",
    "y_test = Flux.onehotbatch(test_data.targets, 0:9)"
   ]
  },
  {
   "cell_type": "markdown",
   "metadata": {},
   "source": [
    "Import special object for creating RNN"
   ]
  },
  {
   "cell_type": "code",
   "execution_count": 2,
   "metadata": {},
   "outputs": [
    {
     "data": {
      "text/plain": [
       "RNN_CUST"
      ]
     },
     "metadata": {},
     "output_type": "display_data"
    }
   ],
   "source": [
    "include(\"./src/network/rnn_custom.jl\")"
   ]
  },
  {
   "cell_type": "markdown",
   "metadata": {},
   "source": [
    "#### Training"
   ]
  },
  {
   "cell_type": "code",
   "execution_count": 10,
   "metadata": {},
   "outputs": [
    {
     "data": {
      "text/plain": [
       "RNN_CUST(5, 100, 0.015, Variable([0.04000389559182569 -0.015975714239127983 … -0.0466068526864315 -0.03746569517442464; 0.12812238849979207 -0.03291793515067377 … 0.012528014182301025 0.11529156642377635; … ; -0.0006200180318048078 -0.058660870646045436 … 0.000996342408570608 0.008242548538461418; -0.08237177920738672 0.04816957296268689 … 0.028235947995502407 -0.12809523498243192], nothing, \"rnn_weights\", nothing), Variable([0.2409643357658394 -0.19300121110751609 … -0.1963282650745643 -0.1268748856883688; -0.10127506121172328 -0.04530897831177808 … -0.010069971317763575 0.2690951945161125; … ; 0.13082652237367562 -0.007939082660057915 … 0.0065009853952105795 -0.028426285385508454; 0.02288722315493907 -0.22291246194910389 … 0.1612614945082615 -0.13237911723417736], nothing, \"rnn_recurrent_weights\", nothing), Variable([0.0, 0.0, 0.0, 0.0, 0.0, 0.0, 0.0, 0.0, 0.0, 0.0  …  0.0, 0.0, 0.0, 0.0, 0.0, 0.0, 0.0, 0.0, 0.0, 0.0], nothing, \"rnn_bias\", nothing), Variable([-0.16166353150043297 0.11773525332091143 … 0.16875755677974624 0.10309722777509436; -0.26546243546216275 0.15508511064550662 … -0.1422202178609929 0.05668754254366992; … ; -0.06324502721742037 0.07685933647837415 … -0.04473423730076587 0.06679967014733673; -0.01533496774932808 0.008790169117202635 … -0.02765810417162157 0.12013874403680232], nothing, \"dense_weights\", nothing), Variable([0.0, 0.0, 0.0, 0.0, 0.0, 0.0, 0.0, 0.0, 0.0, 0.0], nothing, \"dense_bias\", nothing), Vector{Function}[[rnn, tanh], [dense, identity]])"
      ]
     },
     "metadata": {},
     "output_type": "display_data"
    }
   ],
   "source": [
    "r = RNN_CUST(1, 100, 15e-3, [[rnn, tanh], [dense, identity]])"
   ]
  },
  {
   "cell_type": "markdown",
   "metadata": {},
   "source": [
    "#### Train"
   ]
  },
  {
   "cell_type": "code",
   "execution_count": 12,
   "metadata": {},
   "outputs": [
    {
     "name": "stdout",
     "output_type": "stream",
     "text": [
      "TEST RUN WITHOUT LEARNING ---- SHOULD BE AROUND 10% ACCURACY\n",
      "TEST ACCURACY: 0.9180666666666667 (RECOGNIZED 55084/60000)\n",
      "------------------------------------------------------\n",
      "EPOCH: 1.  AVG LOSS: 0.2825628228357844\n",
      "ACCURACY: 0.92175 (RECOGNIZED 55305/60000)\n",
      "\n",
      "EPOCH: 2.  AVG LOSS: 0.262100151827221\n",
      "ACCURACY: 0.9242833333333333 (RECOGNIZED 110914/120000)\n",
      "\n",
      "EPOCH: 3.  AVG LOSS: 0.24574946823950267\n",
      "ACCURACY: 0.9266611111111112 (RECOGNIZED 166799/180000)\n",
      "\n"
     ]
    }
   ],
   "source": [
    "# training\n",
    "train(r, x_train, y_train)"
   ]
  },
  {
   "cell_type": "markdown",
   "metadata": {},
   "source": [
    "#### Test"
   ]
  },
  {
   "cell_type": "code",
   "execution_count": 5,
   "metadata": {},
   "outputs": [
    {
     "name": "stdout",
     "output_type": "stream",
     "text": [
      "TEST ACCURACY: 0.9169 (RECOGNIZED 9169/10000)\n"
     ]
    }
   ],
   "source": [
    "test(r,x_test, y_test)"
   ]
  }
 ],
 "metadata": {
  "kernelspec": {
   "display_name": "Julia 1.10.4",
   "language": "julia",
   "name": "julia-1.10"
  },
  "language_info": {
   "file_extension": ".jl",
   "mimetype": "application/julia",
   "name": "julia",
   "version": "1.10.4"
  }
 },
 "nbformat": 4,
 "nbformat_minor": 2
}
