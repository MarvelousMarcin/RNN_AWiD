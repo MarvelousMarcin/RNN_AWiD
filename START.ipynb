{
 "cells": [
  {
   "cell_type": "markdown",
   "metadata": {},
   "source": [
    "### RNN with Automatic differentiation"
   ]
  },
  {
   "cell_type": "markdown",
   "metadata": {},
   "source": [
    "We start with prepargin data, we will use example MNIST data set with handwritten numbers,"
   ]
  },
  {
   "cell_type": "code",
   "execution_count": 1,
   "metadata": {},
   "outputs": [
    {
     "data": {
      "text/plain": [
       "10×10000 OneHotMatrix(::Vector{UInt32}) with eltype Bool:\n",
       " ⋅  ⋅  ⋅  1  ⋅  ⋅  ⋅  ⋅  ⋅  ⋅  1  ⋅  ⋅  …  ⋅  ⋅  ⋅  ⋅  ⋅  1  ⋅  ⋅  ⋅  ⋅  ⋅  ⋅\n",
       " ⋅  ⋅  1  ⋅  ⋅  1  ⋅  ⋅  ⋅  ⋅  ⋅  ⋅  ⋅     ⋅  ⋅  ⋅  ⋅  ⋅  ⋅  1  ⋅  ⋅  ⋅  ⋅  ⋅\n",
       " ⋅  1  ⋅  ⋅  ⋅  ⋅  ⋅  ⋅  ⋅  ⋅  ⋅  ⋅  ⋅     ⋅  ⋅  ⋅  ⋅  ⋅  ⋅  ⋅  1  ⋅  ⋅  ⋅  ⋅\n",
       " ⋅  ⋅  ⋅  ⋅  ⋅  ⋅  ⋅  ⋅  ⋅  ⋅  ⋅  ⋅  ⋅     ⋅  ⋅  ⋅  ⋅  ⋅  ⋅  ⋅  ⋅  1  ⋅  ⋅  ⋅\n",
       " ⋅  ⋅  ⋅  ⋅  1  ⋅  1  ⋅  ⋅  ⋅  ⋅  ⋅  ⋅     ⋅  ⋅  ⋅  ⋅  ⋅  ⋅  ⋅  ⋅  ⋅  1  ⋅  ⋅\n",
       " ⋅  ⋅  ⋅  ⋅  ⋅  ⋅  ⋅  ⋅  1  ⋅  ⋅  ⋅  ⋅  …  1  ⋅  ⋅  ⋅  ⋅  ⋅  ⋅  ⋅  ⋅  ⋅  1  ⋅\n",
       " ⋅  ⋅  ⋅  ⋅  ⋅  ⋅  ⋅  ⋅  ⋅  ⋅  ⋅  1  ⋅     ⋅  1  ⋅  ⋅  ⋅  ⋅  ⋅  ⋅  ⋅  ⋅  ⋅  1\n",
       " 1  ⋅  ⋅  ⋅  ⋅  ⋅  ⋅  ⋅  ⋅  ⋅  ⋅  ⋅  ⋅     ⋅  ⋅  1  ⋅  ⋅  ⋅  ⋅  ⋅  ⋅  ⋅  ⋅  ⋅\n",
       " ⋅  ⋅  ⋅  ⋅  ⋅  ⋅  ⋅  ⋅  ⋅  ⋅  ⋅  ⋅  ⋅     ⋅  ⋅  ⋅  1  ⋅  ⋅  ⋅  ⋅  ⋅  ⋅  ⋅  ⋅\n",
       " ⋅  ⋅  ⋅  ⋅  ⋅  ⋅  ⋅  1  ⋅  1  ⋅  ⋅  1     ⋅  ⋅  ⋅  ⋅  1  ⋅  ⋅  ⋅  ⋅  ⋅  ⋅  ⋅"
      ]
     },
     "metadata": {},
     "output_type": "display_data"
    }
   ],
   "source": [
    "include(\"./src/network/rnn.jl\")\n",
    "\n",
    "using MLDatasets: MNIST\n",
    "using Flux\n",
    "\n",
    "train_data = MNIST(:train)\n",
    "test_data = MNIST(:test)\n",
    "\n",
    "x_train = reshape(train_data.features, 28 * 28, :)\n",
    "y_train = Flux.onehotbatch(train_data.targets, 0:9)\n",
    "x_test = reshape(test_data.features, 28 * 28, :)\n",
    "y_test = Flux.onehotbatch(test_data.targets, 0:9)"
   ]
  },
  {
   "cell_type": "markdown",
   "metadata": {},
   "source": [
    "Import special object for creating RNN"
   ]
  },
  {
   "cell_type": "code",
   "execution_count": 2,
   "metadata": {},
   "outputs": [
    {
     "data": {
      "text/plain": [
       "RNN_CUST"
      ]
     },
     "metadata": {},
     "output_type": "display_data"
    }
   ],
   "source": [
    "include(\"./src/network/rnn_custom.jl\")"
   ]
  },
  {
   "cell_type": "markdown",
   "metadata": {},
   "source": [
    "#### Training"
   ]
  },
  {
   "cell_type": "code",
   "execution_count": 16,
   "metadata": {},
   "outputs": [
    {
     "data": {
      "text/plain": [
       "RNN_CUST(5, 100, 0.015, Variable([-0.06065607209108132 0.04352459053154862 … -0.11229164727281939 0.024625570270868508; 0.11964986421019559 0.16267763372093325 … 0.017209923875171663 -0.0772735056417049; … ; 0.04722307732189705 0.12124926327173262 … -0.06010142205129111 -0.01935552482538087; 0.13600088166304236 0.016295399231427418 … 0.022439074083599173 0.01095965549959252], nothing, \"rnn_weights\", nothing), Variable([0.10367362372711209 -0.258681295764661 … -0.1976886561566783 0.015613845978612564; 0.0033670646654627347 0.22915802580325564 … -0.009666974205902429 -0.012738258165571678; … ; -0.06489685595693515 -0.08869941388299137 … -0.1621325123985348 0.22305089144142995; -0.20170928828954943 0.22043632097466306 … 0.08371067735311483 0.10501124419705472], nothing, \"rnn_recurrent_weights\", nothing), Variable([0.0, 0.0, 0.0, 0.0, 0.0, 0.0, 0.0, 0.0, 0.0, 0.0  …  0.0, 0.0, 0.0, 0.0, 0.0, 0.0, 0.0, 0.0, 0.0, 0.0], nothing, \"rnn_bias\", nothing), Variable([-0.016859104245166567 -0.045639007206655854 … 0.03608777757561147 -0.005909210573969968; -0.05306907140989641 -0.22237184961585035 … -0.11010996884465431 -0.20603736650726048; … ; -0.02736212462829509 0.177709421037376 … -0.038147017277823006 0.12213451582588937; -0.24230349479340377 -0.12741994415251284 … -0.035873831258140976 -0.05774782299423105], nothing, \"dense_weights\", nothing), Variable([0.0, 0.0, 0.0, 0.0, 0.0, 0.0, 0.0, 0.0, 0.0, 0.0], nothing, \"dense_bias\", nothing), Vector{Function}[[rnn, tanh], [dense, tanh]])"
      ]
     },
     "metadata": {},
     "output_type": "display_data"
    }
   ],
   "source": [
    "r = RNN_CUST(5, 100, 15e-3, [[rnn, tanh], [dense, identity]])"
   ]
  },
  {
   "cell_type": "markdown",
   "metadata": {},
   "source": [
    "#### Train"
   ]
  },
  {
   "cell_type": "code",
   "execution_count": 17,
   "metadata": {},
   "outputs": [
    {
     "name": "stdout",
     "output_type": "stream",
     "text": [
      "TEST RUN WITHOUT LEARNING ---- SHOULD BE AROUND 10% ACCURACY\n",
      "TEST ACCURACY: 0.0934 (RECOGNIZED 5604/60000)\n",
      "------------------------------------------------------\n",
      "EPOCH: 1.  AVG LOSS: 1.599059593088414\n",
      "ACCURACY: 0.64415 (RECOGNIZED 38649/60000)\n",
      "\n",
      "EPOCH: 2.  AVG LOSS: 1.2512843057623064\n",
      "ACCURACY: 0.738825 (RECOGNIZED 88659/120000)\n",
      "\n",
      "EPOCH: 3.  AVG LOSS: 1.1557562357703346\n",
      "ACCURACY: 0.7824222222222222 (RECOGNIZED 140836/180000)\n"
     ]
    }
   ],
   "source": [
    "# training\n",
    "train(r, x_train, y_train)"
   ]
  },
  {
   "cell_type": "markdown",
   "metadata": {},
   "source": [
    "#### Test"
   ]
  },
  {
   "cell_type": "code",
   "execution_count": 15,
   "metadata": {},
   "outputs": [
    {
     "name": "stdout",
     "output_type": "stream",
     "text": [
      "TEST ACCURACY: 0.9204 (RECOGNIZED 9204/10000)\n"
     ]
    }
   ],
   "source": [
    "test(r,x_test, y_test)"
   ]
  }
 ],
 "metadata": {
  "kernelspec": {
   "display_name": "Julia 1.10.4",
   "language": "julia",
   "name": "julia-1.10"
  },
  "language_info": {
   "file_extension": ".jl",
   "mimetype": "application/julia",
   "name": "julia",
   "version": "1.10.4"
  }
 },
 "nbformat": 4,
 "nbformat_minor": 2
}
