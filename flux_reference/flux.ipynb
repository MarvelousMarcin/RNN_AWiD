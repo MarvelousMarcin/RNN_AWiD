{
 "cells": [
  {
   "cell_type": "markdown",
   "metadata": {},
   "source": [
    "### FLUX Reference"
   ]
  },
  {
   "cell_type": "code",
   "execution_count": 1,
   "metadata": {},
   "outputs": [
    {
     "data": {
      "text/plain": [
       "Chain(\n",
       "  Recur(\n",
       "    RNNCell(196 => 64, tanh),           \u001b[90m# 16_768 parameters\u001b[39m\n",
       "  ),\n",
       "  Dense(64 => 10),                      \u001b[90m# 650 parameters\u001b[39m\n",
       ") \u001b[90m        # Total: 6 trainable arrays, \u001b[39m17_418 parameters,\n",
       "\u001b[90m          # plus 1 non-trainable, 64 parameters, summarysize \u001b[39m68.406 KiB."
      ]
     },
     "metadata": {},
     "output_type": "display_data"
    }
   ],
   "source": [
    "\n",
    "using MLDatasets, Flux\n",
    "train_data = MLDatasets.MNIST(split=:train)\n",
    "test_data  = MLDatasets.MNIST(split=:test)\n",
    "\n",
    "function loader(data; batchsize::Int=1)\n",
    "    x1dim = reshape(data.features, 28 * 28, :)\n",
    "    yhot  = Flux.onehotbatch(data.targets, 0:9)\n",
    "    Flux.DataLoader((x1dim, yhot); batchsize, shuffle=true)\n",
    "end\n",
    "\n",
    "net = Chain(\n",
    "    RNN((14 * 14) => 64, tanh),\n",
    "    Dense(64 => 10, identity),\n",
    ")"
   ]
  },
  {
   "cell_type": "code",
   "execution_count": 2,
   "metadata": {},
   "outputs": [
    {
     "name": "stdout",
     "output_type": "stream",
     "text": [
      "loss_and_accuracy(net, test_data) = (loss = 2.3955445f0, acc = 11.05, split = :test)\n"
     ]
    }
   ],
   "source": [
    "using Statistics: mean\n",
    "function loss_and_accuracy(model, data)\n",
    "    (x,y) = only(loader(data; batchsize=length(data)))\n",
    "    Flux.reset!(model)\n",
    "    ŷ = model(x[  1:196,:])\n",
    "    ŷ = model(x[197:392,:])\n",
    "    ŷ = model(x[393:588,:])\n",
    "    ŷ = model(x[589:end,:])\n",
    "    loss = Flux.logitcrossentropy(ŷ, y)\n",
    "    acc = round(100 * mean(Flux.onecold(ŷ) .== Flux.onecold(y)); digits=2)\n",
    "    (; loss, acc, split=data.split)\n",
    "end\n",
    "\n",
    "@show loss_and_accuracy(net, test_data);\n",
    "\n",
    "train_log = []\n",
    "settings = (;\n",
    "    eta = 15e-3,\n",
    "    epochs = 5,\n",
    "    batchsize = 100,\n",
    ")\n",
    "\n",
    "opt_state = Flux.setup(Descent(settings.eta), net);"
   ]
  },
  {
   "cell_type": "code",
   "execution_count": 3,
   "metadata": {},
   "outputs": [
    {
     "name": "stderr",
     "output_type": "stream",
     "text": [
      "┌ Info: 1\n",
      "│   acc = 89.59\n",
      "│   test_acc = 90.04\n",
      "└ @ Main c:\\Users\\baska\\OneDrive\\studia\\PW\\Algorytmy w Inżynierii Danych\\Optymalizacja\\XDDD_RNN\\XDDD_RNN-2\\flux_reference\\flux.ipynb:19\n",
      "┌ Info: 2\n",
      "│   acc = 91.95\n",
      "│   test_acc = 92.32\n",
      "└ @ Main c:\\Users\\baska\\OneDrive\\studia\\PW\\Algorytmy w Inżynierii Danych\\Optymalizacja\\XDDD_RNN\\XDDD_RNN-2\\flux_reference\\flux.ipynb:19\n",
      "┌ Info: 3\n",
      "│   acc = 93.12\n",
      "│   test_acc = 93.12\n",
      "└ @ Main c:\\Users\\baska\\OneDrive\\studia\\PW\\Algorytmy w Inżynierii Danych\\Optymalizacja\\XDDD_RNN\\XDDD_RNN-2\\flux_reference\\flux.ipynb:19\n",
      "┌ Info: 4\n",
      "│   acc = 93.8\n",
      "│   test_acc = 93.86\n",
      "└ @ Main c:\\Users\\baska\\OneDrive\\studia\\PW\\Algorytmy w Inżynierii Danych\\Optymalizacja\\XDDD_RNN\\XDDD_RNN-2\\flux_reference\\flux.ipynb:19\n"
     ]
    },
    {
     "name": "stdout",
     "output_type": "stream",
     "text": [
      " 38.928611 seconds (24.51 M allocations: 17.673 GiB, 6.57% gc time, 50.67% compilation time)\n"
     ]
    },
    {
     "name": "stderr",
     "output_type": "stream",
     "text": [
      "┌ Info: 5\n",
      "│   acc = 94.41\n",
      "│   test_acc = 94.45\n",
      "└ @ Main c:\\Users\\baska\\OneDrive\\studia\\PW\\Algorytmy w Inżynierii Danych\\Optymalizacja\\XDDD_RNN\\XDDD_RNN-2\\flux_reference\\flux.ipynb:19\n"
     ]
    }
   ],
   "source": [
    "\n",
    "using ProgressMeter\n",
    "\n",
    "@time for epoch in 1:settings.epochs\n",
    "    for (x,y) in loader(train_data, batchsize=settings.batchsize)\n",
    "        Flux.reset!(net)\n",
    "        grads = Flux.gradient(model -> let\n",
    "                ŷ = model(x[  1:196,:])\n",
    "                ŷ = model(x[197:392,:])\n",
    "                ŷ = model(x[393:588,:])\n",
    "                ŷ = model(x[589:end,:])\n",
    "                Flux.logitcrossentropy(ŷ, y)\n",
    "            end, net)\n",
    "        Flux.update!(opt_state, net, grads[1])\n",
    "    end\n",
    "    \n",
    "    loss, acc, _ = loss_and_accuracy(net, train_data)\n",
    "    test_loss, test_acc, _ = loss_and_accuracy(net, test_data)\n",
    "    @info epoch acc test_acc\n",
    "    nt = (; epoch, loss, acc, test_loss, test_acc) \n",
    "    push!(train_log, nt)\n",
    "end"
   ]
  },
  {
   "cell_type": "code",
   "execution_count": 4,
   "metadata": {},
   "outputs": [
    {
     "name": "stdout",
     "output_type": "stream",
     "text": [
      "hcat(Flux.onecold(y1hat, 0:9), Flux.onecold(y1, 0:9)) = [9 9]\n",
      "loss_and_accuracy(net, train_data) = (loss = 0.19619119f0, acc = 94.41, split = :train)\n"
     ]
    }
   ],
   "source": [
    "\n",
    "Flux.reset!(net)\n",
    "x1, y1 = first(loader(train_data));\n",
    "y1hat = net(x1[  1:196,:])\n",
    "y1hat = net(x1[197:392,:])\n",
    "y1hat = net(x1[393:588,:])\n",
    "y1hat = net(x1[589:end,:])\n",
    "@show hcat(Flux.onecold(y1hat, 0:9), Flux.onecold(y1, 0:9))\n",
    "\n",
    "@show loss_and_accuracy(net, train_data);"
   ]
  }
 ],
 "metadata": {
  "kernelspec": {
   "display_name": "Julia 1.10.3",
   "language": "julia",
   "name": "julia-1.10"
  },
  "language_info": {
   "file_extension": ".jl",
   "mimetype": "application/julia",
   "name": "julia",
   "version": "1.10.3"
  }
 },
 "nbformat": 4,
 "nbformat_minor": 2
}
